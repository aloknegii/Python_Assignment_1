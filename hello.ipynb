{
 "cells": [
  {
   "cell_type": "markdown",
   "id": "765c6834-5a19-436e-98df-9fead487871e",
   "metadata": {},
   "source": [
    "# Part 1. Introduction to Python"
   ]
  },
  {
   "cell_type": "markdown",
   "id": "938df21e-a7b4-47da-8de4-2c0a3421ea6d",
   "metadata": {},
   "source": [
    "- Write a Python script that prints \"Hello, Python World!\" and execute it in an IDLE."
   ]
  },
  {
   "cell_type": "code",
   "execution_count": 3,
   "id": "17c5bb72-45a6-4a49-8c81-01fc08232901",
   "metadata": {},
   "outputs": [
    {
     "name": "stdout",
     "output_type": "stream",
     "text": [
      "Hello, Python World!\n"
     ]
    }
   ],
   "source": [
    "# Display the required  text using print command\n",
    "print(\"Hello, Python World!\")"
   ]
  },
  {
   "cell_type": "code",
   "execution_count": null,
   "id": "b0cddc5d-40b9-46b9-9aff-dfe1719ec0d3",
   "metadata": {},
   "outputs": [],
   "source": []
  }
 ],
 "metadata": {
  "kernelspec": {
   "display_name": "Python 3 (ipykernel)",
   "language": "python",
   "name": "python3"
  },
  "language_info": {
   "codemirror_mode": {
    "name": "ipython",
    "version": 3
   },
   "file_extension": ".py",
   "mimetype": "text/x-python",
   "name": "python",
   "nbconvert_exporter": "python",
   "pygments_lexer": "ipython3",
   "version": "3.12.4"
  }
 },
 "nbformat": 4,
 "nbformat_minor": 5
}
