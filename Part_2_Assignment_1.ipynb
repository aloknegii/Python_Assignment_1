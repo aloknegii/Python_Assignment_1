{
 "cells": [
  {
   "cell_type": "markdown",
   "id": "13d97668-2051-4c91-8dcf-8644033a3cc1",
   "metadata": {},
   "source": [
    "# Part 2: Basic Python Syntax"
   ]
  },
  {
   "cell_type": "markdown",
   "id": "aec7f788-db7f-48de-866d-8ba9a481578f",
   "metadata": {},
   "source": [
    "## 1. String Operations"
   ]
  },
  {
   "cell_type": "markdown",
   "id": "86dc955f-a618-4cd1-b0d7-1f65276141ea",
   "metadata": {},
   "source": [
    "- Write a Python program that takes user's first and last name as input and prints them in reverse order with a space between them.\n",
    "  "
   ]
  },
  {
   "cell_type": "code",
   "execution_count": 24,
   "id": "3f2af51a-aa4d-43e2-92d0-093b38a0edcd",
   "metadata": {},
   "outputs": [
    {
     "name": "stdin",
     "output_type": "stream",
     "text": [
      "Enter your first name:  Alok\n",
      "Enter your last name:  Negi\n"
     ]
    },
    {
     "name": "stdout",
     "output_type": "stream",
     "text": [
      "Your name in reverse order is: igeN kolA\n"
     ]
    }
   ],
   "source": [
    "# Take user's first and last name as input\n",
    "first_name = input(\"Enter your first name: \")\n",
    "last_name = input(\"Enter your last name: \")\n",
    "\n",
    "# Reverse the order of the names using slicing [::-1] which reverses the string\n",
    "reversed_first_name = first_name[::-1]\n",
    "reversed_last_name = last_name[::-1]\n",
    "\n",
    "# Reverse the order of the full name\n",
    "reversed_full_name = reversed_last_name + \" \" + reversed_first_name\n",
    "\n",
    "# Print the result\n",
    "print(\"Your name in reverse order is:\", reversed_full_name)\n"
   ]
  },
  {
   "cell_type": "markdown",
   "id": "4120b1c6-8c98-4ebb-8384-91249d711eaa",
   "metadata": {},
   "source": [
    "- Use at least two string methods and explain their purpose in comments."
   ]
  },
  {
   "cell_type": "code",
   "execution_count": 27,
   "id": "400b575a-6446-4ae8-84b5-eb5fb7ba96df",
   "metadata": {},
   "outputs": [
    {
     "data": {
      "text/plain": [
       "'Hello Python'"
      ]
     },
     "execution_count": 27,
     "metadata": {},
     "output_type": "execute_result"
    }
   ],
   "source": [
    "# 1. replace(old,new) method:\n",
    "# -> This method replaces occurrences of a substring within the string with another substring.\n",
    "\n",
    "str= \"Hello World\"\n",
    "str.replace(\"World\",\"Python\")"
   ]
  },
  {
   "cell_type": "code",
   "execution_count": 35,
   "id": "53b920e3-81e9-441e-8a13-2ffd7ca1c2a4",
   "metadata": {},
   "outputs": [
    {
     "data": {
      "text/plain": [
       "10"
      ]
     },
     "execution_count": 35,
     "metadata": {},
     "output_type": "execute_result"
    }
   ],
   "source": [
    "# 2. find method:\n",
    "# -> This method returns the index of the first occurrence of a substring. Returns -1 if the substring is not found.\n",
    "\n",
    "str1 = \"all day I dream about sports\"\n",
    "str1.find(\"dream\")\n",
    "\n"
   ]
  },
  {
   "cell_type": "markdown",
   "id": "cce6308d-45cb-4f32-8f5e-5861b8099416",
   "metadata": {},
   "source": [
    "## 2. Numeric Data Types and Conversion Functions"
   ]
  },
  {
   "cell_type": "markdown",
   "id": "56aa54b3-e239-4149-8907-e38dbfa62002",
   "metadata": {},
   "source": [
    "- Write a Python program that takes an input number from the user, converts it to different numeric data types(integer, float and complex) and displays the converted values.\n",
    "- Explain the difference between these data types in comments."
   ]
  },
  {
   "cell_type": "code",
   "execution_count": 44,
   "id": "dc3fd5bc-b47e-4434-8102-bf62c1915f56",
   "metadata": {},
   "outputs": [
    {
     "name": "stdin",
     "output_type": "stream",
     "text": [
      "Enter a number:  228\n"
     ]
    },
    {
     "name": "stdout",
     "output_type": "stream",
     "text": [
      "Integer value: 228\n",
      "Float value: 228.0\n",
      "Complex value: (228+0j)\n"
     ]
    }
   ],
   "source": [
    "# Take input number from the user \n",
    "user_input = input(\"Enter a number: \")\n",
    "\n",
    "# Convert the input to different numeric data types\n",
    "int_value = int(user_input)       # Convert to integer\n",
    "float_value = float(user_input)   # Convert to float\n",
    "complex_value = complex(user_input)  # Convert to complex number\n",
    "\n",
    "# Display the converted values\n",
    "print(f\"Integer value: {int_value}\")\n",
    "print(f\"Float value: {float_value}\")\n",
    "print(f\"Complex value: {complex_value}\")\n",
    "\n",
    "# Explanation of numeric data types:\n",
    "# 1. Integer (int): Represents whole numbers without a decimal point, e.g., 1, -5, 100.\n",
    "# 2. Float: Represents numbers with a decimal point, e.g., 3.29, -0.001, 2.0.\n",
    "# 3. Complex: Represents complex numbers in the form of a + bj, where 'a' is the real part and 'b' is the imaginary part. For example, 5 + 7j.\n"
   ]
  },
  {
   "cell_type": "markdown",
   "id": "3d342e1f-f6c9-402c-8c34-f125b9615c6b",
   "metadata": {},
   "source": [
    "## 3. Simple Input and Output"
   ]
  },
  {
   "cell_type": "markdown",
   "id": "42a6a243-c87c-4b29-947c-aefcc1e28e49",
   "metadata": {},
   "source": [
    "- Create a Python script that calculates the area of a rectangle. The script should:-\n",
    "- Prompt the user to enter the length and width of the rectangle.\n",
    "- Calculate the area.\n",
    "- Display the result using print function.\n",
    "  "
   ]
  },
  {
   "cell_type": "code",
   "execution_count": 50,
   "id": "21dec655-7c94-4df6-8b89-ca9cc7dfe3f4",
   "metadata": {},
   "outputs": [
    {
     "name": "stdin",
     "output_type": "stream",
     "text": [
      "Enter the length of the rectangle:  24.56\n",
      "Enter the width of the rectangle:  56.4\n"
     ]
    },
    {
     "name": "stdout",
     "output_type": "stream",
     "text": [
      "The area of the rectangle is: 1385.184\n"
     ]
    }
   ],
   "source": [
    "# Prompt the user to enter the length of the rectangle\n",
    "length = float(input(\"Enter the length of the rectangle: \"))\n",
    "\n",
    "# Prompt the user to enter the width of the rectangle\n",
    "width = float(input(\"Enter the width of the rectangle: \"))\n",
    "\n",
    "# Calculate the area of the rectangle\n",
    "area = length * width\n",
    "\n",
    "# Display the result\n",
    "print(f\"The area of the rectangle is: {area}\")\n"
   ]
  },
  {
   "cell_type": "markdown",
   "id": "76c1a4c8-9e7f-49a2-a6a2-547e2ffb19f7",
   "metadata": {},
   "source": [
    "- Using the format method modify the rectangle area program to format the output so that it displays the area with two decimal places."
   ]
  },
  {
   "cell_type": "code",
   "execution_count": 53,
   "id": "5fe65938-e5e2-475d-8094-51d5a22e7859",
   "metadata": {},
   "outputs": [
    {
     "name": "stdin",
     "output_type": "stream",
     "text": [
      "Enter the length of the rectangle:  34.5\n",
      "Enter the width of the rectangle:  76.22\n"
     ]
    },
    {
     "name": "stdout",
     "output_type": "stream",
     "text": [
      "The area of rectangle is: 2629.59\n"
     ]
    }
   ],
   "source": [
    "# Prompt the user to enter the length of the rectangle\n",
    "length = float(input(\"Enter the length of the rectangle: \"))\n",
    "\n",
    "# Prompt the user to enter the width of the rectangle\n",
    "width = float(input(\"Enter the width of the rectangle: \"))\n",
    "\n",
    "# Calculate the area of the rectangle\n",
    "area = length * width\n",
    "\n",
    "# format the value of area upto two decimal places\n",
    "format_area= \"{:.2f}\".format(area)\n",
    "print(f\"The area of rectangle is: {format_area}\")\n"
   ]
  },
  {
   "cell_type": "markdown",
   "id": "27ca89bb-7566-4f84-9077-fa13f3197c17",
   "metadata": {},
   "source": [
    "## 4. The % method and print function"
   ]
  },
  {
   "cell_type": "markdown",
   "id": "dd804052-dcf9-4824-a3f3-8aa4f2669a57",
   "metadata": {},
   "source": [
    "- Write a Python script that takes three numbers as input and prints their average using the % method for string formatting.\n",
    "- Also, use the print function to display a message that states, \"The average of the three numbers is: [calculated average]\"."
   ]
  },
  {
   "cell_type": "code",
   "execution_count": 60,
   "id": "0d3f0d20-aaae-464d-af67-4457c28a4e37",
   "metadata": {},
   "outputs": [
    {
     "name": "stdin",
     "output_type": "stream",
     "text": [
      "Enter the first number:  22.4\n",
      "Enter the second number:  45.4\n",
      "Enter the third number:  67.93\n"
     ]
    },
    {
     "name": "stdout",
     "output_type": "stream",
     "text": [
      "The average of the three numbers is: 45.24\n"
     ]
    }
   ],
   "source": [
    "# Prompt the user to enter three numbers\n",
    "num1 = float(input(\"Enter the first number: \"))\n",
    "num2 = float(input(\"Enter the second number: \"))\n",
    "num3 = float(input(\"Enter the third number: \"))\n",
    "\n",
    "# Calculate the average of the three numbers\n",
    "calculated_average = (num1 + num2 + num3) / 3\n",
    "\n",
    "# Display the result using the % method for string formatting\n",
    "print(\"The average of the three numbers is: %.2f\" % calculated_average)\n"
   ]
  },
  {
   "cell_type": "code",
   "execution_count": null,
   "id": "3f5ac192-7e3a-49fe-b63e-deb0896de345",
   "metadata": {},
   "outputs": [],
   "source": []
  }
 ],
 "metadata": {
  "kernelspec": {
   "display_name": "Python 3 (ipykernel)",
   "language": "python",
   "name": "python3"
  },
  "language_info": {
   "codemirror_mode": {
    "name": "ipython",
    "version": 3
   },
   "file_extension": ".py",
   "mimetype": "text/x-python",
   "name": "python",
   "nbconvert_exporter": "python",
   "pygments_lexer": "ipython3",
   "version": "3.12.4"
  }
 },
 "nbformat": 4,
 "nbformat_minor": 5
}
