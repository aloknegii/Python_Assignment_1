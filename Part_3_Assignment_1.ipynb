{
 "cells": [
  {
   "cell_type": "markdown",
   "id": "f25d0d30-7bc8-4a01-b038-e1a77407aed8",
   "metadata": {},
   "source": [
    "# Part 3: Language Components"
   ]
  },
  {
   "cell_type": "markdown",
   "id": "1cd2638c-2e40-408f-b1f4-b50b42c134d9",
   "metadata": {},
   "source": [
    "## 1. Control Flow(If statements and loops)"
   ]
  },
  {
   "cell_type": "markdown",
   "id": "40750556-6554-471d-9c7e-a7acc6b81808",
   "metadata": {},
   "source": [
    "- Write a Python program that asks the user for a number and determines whether it is positive, negative, or zero.\n",
    "- Implement a loop that continues to ask the user for a number until they enter 'exit'.\n",
    "- Use break to exit the loop and continue to prompt for a new number if the input is not 'exit'."
   ]
  },
  {
   "cell_type": "code",
   "execution_count": 12,
   "id": "996a419b-d587-45fc-95ef-023f3199b695",
   "metadata": {},
   "outputs": [
    {
     "name": "stdin",
     "output_type": "stream",
     "text": [
      "Enter a number (or type 'exit' to stop):  55\n"
     ]
    },
    {
     "name": "stdout",
     "output_type": "stream",
     "text": [
      "The number is positive.\n"
     ]
    },
    {
     "name": "stdin",
     "output_type": "stream",
     "text": [
      "Enter a number (or type 'exit' to stop):  -33\n"
     ]
    },
    {
     "name": "stdout",
     "output_type": "stream",
     "text": [
      "The number is negative.\n"
     ]
    },
    {
     "name": "stdin",
     "output_type": "stream",
     "text": [
      "Enter a number (or type 'exit' to stop):  0\n"
     ]
    },
    {
     "name": "stdout",
     "output_type": "stream",
     "text": [
      "The number is zero.\n"
     ]
    },
    {
     "name": "stdin",
     "output_type": "stream",
     "text": [
      "Enter a number (or type 'exit' to stop):  exit\n"
     ]
    },
    {
     "name": "stdout",
     "output_type": "stream",
     "text": [
      "Program exited.\n"
     ]
    }
   ],
   "source": [
    "while True:\n",
    "    # Prompt the user to enter a number or 'exit' to stop\n",
    "    user_input = input(\"Enter a number (or type 'exit' to stop): \")\n",
    "\n",
    "    # Check if the user wants to exit\n",
    "    if user_input.lower() == 'exit':\n",
    "        break\n",
    "\n",
    "    # Try to convert the input to a float for numeric comparison\n",
    "    try:\n",
    "        number = float(user_input)\n",
    "    except ValueError:\n",
    "        print(\"Invalid input. Please enter a valid number.\")\n",
    "        continue  # If input is invalid, continue to prompt for a new number\n",
    "\n",
    "    # Determine if the number is positive, negative, or zero\n",
    "    if number > 0:\n",
    "        print(\"The number is positive.\")\n",
    "    elif number < 0:\n",
    "        print(\"The number is negative.\")\n",
    "    else:\n",
    "        print(\"The number is zero.\")\n",
    "\n",
    "# The loop breaks and the program ends here\n",
    "print(\"Program exited.\")\n"
   ]
  },
  {
   "cell_type": "markdown",
   "id": "5f93c402-e836-4b71-8203-94c2eac8bc51",
   "metadata": {},
   "source": [
    "## 2. Relational and Logical Operators"
   ]
  },
  {
   "cell_type": "markdown",
   "id": "5983c600-d295-48d5-9abb-fb2b1c3c6ac2",
   "metadata": {},
   "source": [
    "- Create a Python script that takes two numbers as input and prints whether both numbers are even, odd, or one of each using relational and logical operators."
   ]
  },
  {
   "cell_type": "code",
   "execution_count": 17,
   "id": "0a456262-ee66-443e-a82b-cdd63af4fdc7",
   "metadata": {},
   "outputs": [
    {
     "name": "stdin",
     "output_type": "stream",
     "text": [
      "Enter the first number:  2\n",
      "Enter the second number:  7\n"
     ]
    },
    {
     "name": "stdout",
     "output_type": "stream",
     "text": [
      "One number is even and the other is odd.\n"
     ]
    }
   ],
   "source": [
    "# Input the first number\n",
    "num1 = int(input(\"Enter the first number: \"))\n",
    "\n",
    "# Input the second number\n",
    "num2 = int(input(\"Enter the second number: \"))\n",
    "\n",
    "# Checking if both the numbers are even( all even numbers are divisble by 2 )\n",
    "if num1 % 2 == 0 and num2 % 2 == 0:\n",
    "    print(\"Both numbers are even.\")\n",
    "# Checking if both the numbers are odd.    \n",
    "elif num1 % 2 != 0 and num2 % 2 != 0:\n",
    "    print(\"Both numbers are odd.\")\n",
    "# If the numbers are not same i.e. both are not even and neither both of them are odd.\n",
    "else:\n",
    "    print(\"One number is even and the other is odd.\")\n"
   ]
  },
  {
   "cell_type": "markdown",
   "id": "ec55dba0-cdad-4768-8642-ba37197552a5",
   "metadata": {},
   "source": [
    "## 3. For Loop and Bitwise operators"
   ]
  },
  {
   "cell_type": "markdown",
   "id": "dd5a2d8b-919c-450f-a3d5-26cf2be352ca",
   "metadata": {},
   "source": [
    "- Write a Python program that takes an integer input and prints its binary, octal, and hexadecimal equivalents using For Loop and Bitwise Operators."
   ]
  },
  {
   "cell_type": "code",
   "execution_count": 23,
   "id": "dd0d5ddd-b9af-4e4b-8863-bb32a4c229f9",
   "metadata": {},
   "outputs": [
    {
     "name": "stdin",
     "output_type": "stream",
     "text": [
      "Enter an integer:  20\n"
     ]
    },
    {
     "name": "stdout",
     "output_type": "stream",
     "text": [
      "Binary equivalent: 10100\n",
      "Octal equivalent: 24\n",
      "Hexadecimal equivalent: 14\n"
     ]
    }
   ],
   "source": [
    "# Function to convert decimal to binary\n",
    "def to_binary(n):\n",
    "    binary = ''\n",
    "    for i in range(n.bit_length()):\n",
    "        # Bitwise AND to get the least significant bit and shift right\n",
    "        binary = str(n >> i & 1) + binary\n",
    "    return binary\n",
    "\n",
    "# Function to convert decimal to octal\n",
    "def to_octal(n):\n",
    "    octal = ''\n",
    "    while n > 0:\n",
    "        # Bitwise AND with 7 (binary 111) to get the last three bits\n",
    "        octal = str(n & 7) + octal\n",
    "        n >>= 3  # Shift right by 3 bits\n",
    "    return octal if octal else '0'\n",
    "\n",
    "# Function to convert decimal to hexadecimal\n",
    "def to_hexadecimal(n):\n",
    "    hex_digits = '0123456789ABCDEF'\n",
    "    hexadecimal = ''\n",
    "    while n > 0:\n",
    "        # Bitwise AND with 15 (binary 1111) to get the last four bits\n",
    "        hexadecimal = hex_digits[n & 15] + hexadecimal\n",
    "        n >>= 4  # Shift right by 4 bits\n",
    "    return hexadecimal if hexadecimal else '0'\n",
    "\n",
    "# Take integer input from the user\n",
    "number = int(input(\"Enter an integer: \"))\n",
    "\n",
    "# Convert and print the binary equivalent\n",
    "print(f\"Binary equivalent: {to_binary(number)}\")\n",
    "\n",
    "# Convert and print the octal equivalent\n",
    "print(f\"Octal equivalent: {to_octal(number)}\")\n",
    "\n",
    "# Convert and print the hexadecimal equivalent\n",
    "print(f\"Hexadecimal equivalent: {to_hexadecimal(number)}\")\n"
   ]
  },
  {
   "cell_type": "code",
   "execution_count": null,
   "id": "32bf91b4-7e5c-4a1b-aced-a344b845ebf0",
   "metadata": {},
   "outputs": [],
   "source": []
  }
 ],
 "metadata": {
  "kernelspec": {
   "display_name": "Python 3 (ipykernel)",
   "language": "python",
   "name": "python3"
  },
  "language_info": {
   "codemirror_mode": {
    "name": "ipython",
    "version": 3
   },
   "file_extension": ".py",
   "mimetype": "text/x-python",
   "name": "python",
   "nbconvert_exporter": "python",
   "pygments_lexer": "ipython3",
   "version": "3.12.4"
  }
 },
 "nbformat": 4,
 "nbformat_minor": 5
}
